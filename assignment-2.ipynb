{
 "cells": [
  {
   "cell_type": "markdown",
   "id": "c9517d9d-f2fa-46b9-9f74-e6cc7654b09e",
   "metadata": {},
   "source": [
    "1.Write a Python program to create a Vehicle class with name, max_speed, and mileage instance attributes."
   ]
  },
  {
   "cell_type": "code",
   "execution_count": 53,
   "id": "8e543976-2a4c-4298-a17b-1511c4791411",
   "metadata": {},
   "outputs": [
    {
     "name": "stdout",
     "output_type": "stream",
     "text": [
      "vehicle=RX-135 max_speed=110+ mileage=60km per litre\n",
      "vehicle=RX-100 max_speed=100+ mileage=60km per litre\n",
      "True\n"
     ]
    }
   ],
   "source": [
    "class vehicle:\n",
    "    def __init__(self,model,max_speed,mileage):\n",
    "        self.model=model\n",
    "        self.max_speed=max_speed\n",
    "        self.mileage=mileage\n",
    "vehicle_m1=vehicle(model='vehicle=RX-100',max_speed='max_speed=100+',mileage='mileage=60km per litre')\n",
    "vehicle_m2=vehicle(model='vehicle=RX-135',max_speed='max_speed=110+',mileage='mileage=60km per litre')\n",
    "print(vehicle_m2.model,vehicle_m2.max_speed,vehicle_m1.mileage)\n",
    "print(vehicle_m1.model,vehicle_m1.max_speed,vehicle_m2.mileage)\n",
    "print(isinstance(vehicle_m1,vehicle))\n",
    "#print(isinstance(vehicle_m3,vehicle)) check the instance method"
   ]
  },
  {
   "cell_type": "markdown",
   "id": "715f0515-8dd1-4685-8efe-8fbde27ec062",
   "metadata": {},
   "source": [
    "------------------------------------------------------------------------------------------------------------"
   ]
  },
  {
   "cell_type": "markdown",
   "id": "254639ff-bfef-4e0c-85b9-29e0b8713046",
   "metadata": {},
   "source": [
    "2.Create a child class automobile that will inherit all of the variables and methods of the Vehicle class"
   ]
  },
  {
   "cell_type": "code",
   "execution_count": 29,
   "id": "1035a341-b384-4d15-b8fb-feb6d80a80c2",
   "metadata": {},
   "outputs": [
    {
     "name": "stdout",
     "output_type": "stream",
     "text": [
      "vehicle = RX-100\n",
      "max_speed = 100+\n",
      "mileage = 60km per litre\n"
     ]
    }
   ],
   "source": [
    "class vehicle: #base class......\n",
    "    def __init__(self,model,max_speed,mileage):\n",
    "        self.model=model\n",
    "        self.max_speed=max_speed\n",
    "        self.mileage=mileage\n",
    "class auto_mobile(vehicle): #child class.......\n",
    "    def __init__(self,model,max_speed,mileage):\n",
    "        super().__init__(model,max_speed,mileage)\n",
    "vehicle_m1=auto_mobile(model='vehicle = RX-100',max_speed='max_speed = 100+',mileage='mileage = 60km per litre')\n",
    "print(vehicle_m1.model)\n",
    "print(vehicle_m1.max_speed)\n",
    "print(vehicle_m1.mileage)"
   ]
  },
  {
   "cell_type": "markdown",
   "id": "c86f5770-fb4f-4123-b387-a24aa02e0172",
   "metadata": {},
   "source": [
    "------------------------------------------------------------------------------------------------------------"
   ]
  },
  {
   "cell_type": "markdown",
   "id": "b8d12863-d31e-410a-833b-d4cbc47353f3",
   "metadata": {},
   "source": [
    "3.Write a program for the following statements:\n",
    "(i). Create a Python class Person with attributes: name and age of type string.\n",
    "(ii). Create a display() method that displays the name and age of an object created via the Person class.\n",
    "(iii). Create a child class Student which inherits from the Person class and which also has a department attribute.\n",
    "(iv). Create a method displayStudent() that displays the name, age and department of an object created via the Student class.\n",
    "(v). Create a student object via an instantiation on the Student class and then test the displayStudent method."
   ]
  },
  {
   "cell_type": "code",
   "execution_count": 37,
   "id": "d3fc3fdc-da09-4aab-bdaf-3a1e9c812065",
   "metadata": {},
   "outputs": [
    {
     "name": "stdin",
     "output_type": "stream",
     "text": [
      "enter your name: charlez\n",
      "enter your age: 19\n"
     ]
    },
    {
     "name": "stdout",
     "output_type": "stream",
     "text": [
      "my name is charlez my age is 19\n"
     ]
    }
   ],
   "source": [
    "# (i). create a python class person with attributes: name and age of type string...\n",
    "#(ii). Create a display() method that displays the name and age of an object created via the Person class.\n",
    "class person:\n",
    "    def __init__(self,name,age):\n",
    "        self.name=name\n",
    "        self.age=age\n",
    "student=person((str(input(\"enter your name:\"))),(int(input(\"enter your age:\"))))\n",
    "print(\"my name is\",student.name,'my age is',student.age)\n"
   ]
  },
  {
   "cell_type": "code",
   "execution_count": 43,
   "id": "cb13f207-cc66-4b5f-81fa-98138bcb4113",
   "metadata": {},
   "outputs": [
    {
     "name": "stdin",
     "output_type": "stream",
     "text": [
      "enter your name: charlez\n",
      "enter your age: 19\n",
      "enter the department name: computer science\n"
     ]
    },
    {
     "name": "stdout",
     "output_type": "stream",
     "text": [
      "my name is charlez my age is 19 computer science department\n"
     ]
    }
   ],
   "source": [
    "#(iii). Create a child class Student which inherits from the Person class and which also has a department attribute.\n",
    "class person:\n",
    "    def __init__(self,name,age):\n",
    "        self.name=name\n",
    "        self.age=age\n",
    "class student(person):\n",
    "    def __init__(self,name,age,department):\n",
    "        super().__init__(name,age)\n",
    "        self.department=department\n",
    "student_m1=student((str(input(\"enter your name:\"))),(int(input(\"enter your age:\"))),(input('enter the department name:')))\n",
    "print(\"my name is\",student_m1.name,'my age is',student_m1.age,student_m1.department,'department')       "
   ]
  },
  {
   "cell_type": "code",
   "execution_count": 51,
   "id": "bcd534f8-919a-4ba5-9eac-895cbfac693e",
   "metadata": {},
   "outputs": [
    {
     "name": "stdin",
     "output_type": "stream",
     "text": [
      "enter your name: charlez\n",
      "enter your age: 19\n",
      "enter the department name: computer science\n"
     ]
    },
    {
     "name": "stdout",
     "output_type": "stream",
     "text": [
      "my name charlez\n",
      "my age 19\n",
      "department is computer science\n"
     ]
    }
   ],
   "source": [
    "#(iv). Create a method displayStudent() that displays the name, age and department of an object created via the Student class.\n",
    "\n",
    "class student:\n",
    "    def __init__(self,name,age,department):\n",
    "        self.name=name\n",
    "        self.age=age \n",
    "        self.department=department\n",
    "    def displaystudent(self):      \n",
    "        print('my name',self.name)\n",
    "        print('my age',self.age)\n",
    "        print('department is',self.department)\n",
    "student_1=student((str(input(\"enter your name:\"))),(int(input(\"enter your age:\"))),(input('enter the department name:')))\n",
    "student_1.displaystudent()"
   ]
  },
  {
   "cell_type": "code",
   "execution_count": 55,
   "id": "c8ed6428-d77a-474d-866c-c74edb0c0362",
   "metadata": {},
   "outputs": [
    {
     "name": "stdin",
     "output_type": "stream",
     "text": [
      "enter your name: charlez\n",
      "enter your age: 19\n",
      "enter the department name: computer science\n"
     ]
    },
    {
     "name": "stdout",
     "output_type": "stream",
     "text": [
      "my name charlez\n",
      "my age 19\n",
      "department is computer science\n",
      "True\n"
     ]
    }
   ],
   "source": [
    "#(v). Create a student object via an instantiation on the Student class and then test the displayStudent method.\n",
    "\n",
    "class student:\n",
    "    def __init__(self,name,age,department):\n",
    "        self.name=name\n",
    "        self.age=age \n",
    "        self.department=department\n",
    "    def displaystudent(self):      \n",
    "        print('my name',self.name)\n",
    "        print('my age',self.age)\n",
    "        print('department is',self.department)\n",
    "student_1=student((str(input(\"enter your name:\"))),(int(input(\"enter your age:\"))),(input('enter the department name:')))\n",
    "student_1.displaystudent()\n",
    "print(isinstance(student_1,student))\n"
   ]
  },
  {
   "cell_type": "code",
   "execution_count": null,
   "id": "d5f1ddcc-2978-4d4d-ae3d-202eca67173b",
   "metadata": {},
   "outputs": [],
   "source": []
  }
 ],
 "metadata": {
  "kernelspec": {
   "display_name": "Python 3 (ipykernel)",
   "language": "python",
   "name": "python3"
  },
  "language_info": {
   "codemirror_mode": {
    "name": "ipython",
    "version": 3
   },
   "file_extension": ".py",
   "mimetype": "text/x-python",
   "name": "python",
   "nbconvert_exporter": "python",
   "pygments_lexer": "ipython3",
   "version": "3.11.5"
  }
 },
 "nbformat": 4,
 "nbformat_minor": 5
}
